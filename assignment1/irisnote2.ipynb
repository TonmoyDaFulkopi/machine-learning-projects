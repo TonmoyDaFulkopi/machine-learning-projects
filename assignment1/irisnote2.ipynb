{
 "cells": [
  {
   "cell_type": "markdown",
   "metadata": {},
   "source": [
    "# Import pandas"
   ]
  },
  {
   "cell_type": "code",
   "execution_count": 1,
   "metadata": {},
   "outputs": [],
   "source": [
    "import pandas as pd"
   ]
  },
  {
   "cell_type": "markdown",
   "metadata": {},
   "source": [
    "# Import Iris"
   ]
  },
  {
   "cell_type": "code",
   "execution_count": 2,
   "metadata": {},
   "outputs": [
    {
     "data": {
      "text/html": [
       "<div>\n",
       "<style scoped>\n",
       "    .dataframe tbody tr th:only-of-type {\n",
       "        vertical-align: middle;\n",
       "    }\n",
       "\n",
       "    .dataframe tbody tr th {\n",
       "        vertical-align: top;\n",
       "    }\n",
       "\n",
       "    .dataframe thead th {\n",
       "        text-align: right;\n",
       "    }\n",
       "</style>\n",
       "<table border=\"1\" class=\"dataframe\">\n",
       "  <thead>\n",
       "    <tr style=\"text-align: right;\">\n",
       "      <th></th>\n",
       "      <th>sepal_length</th>\n",
       "      <th>sepal_width</th>\n",
       "      <th>petal_length</th>\n",
       "      <th>petal_width</th>\n",
       "      <th>species</th>\n",
       "    </tr>\n",
       "  </thead>\n",
       "  <tbody>\n",
       "    <tr>\n",
       "      <th>0</th>\n",
       "      <td>5.1</td>\n",
       "      <td>3.5</td>\n",
       "      <td>1.4</td>\n",
       "      <td>0.2</td>\n",
       "      <td>setosa</td>\n",
       "    </tr>\n",
       "    <tr>\n",
       "      <th>1</th>\n",
       "      <td>4.9</td>\n",
       "      <td>3.0</td>\n",
       "      <td>1.4</td>\n",
       "      <td>0.2</td>\n",
       "      <td>setosa</td>\n",
       "    </tr>\n",
       "    <tr>\n",
       "      <th>2</th>\n",
       "      <td>4.7</td>\n",
       "      <td>3.2</td>\n",
       "      <td>1.3</td>\n",
       "      <td>0.2</td>\n",
       "      <td>setosa</td>\n",
       "    </tr>\n",
       "    <tr>\n",
       "      <th>3</th>\n",
       "      <td>4.6</td>\n",
       "      <td>3.1</td>\n",
       "      <td>1.5</td>\n",
       "      <td>0.2</td>\n",
       "      <td>setosa</td>\n",
       "    </tr>\n",
       "    <tr>\n",
       "      <th>4</th>\n",
       "      <td>5.0</td>\n",
       "      <td>3.6</td>\n",
       "      <td>1.4</td>\n",
       "      <td>0.2</td>\n",
       "      <td>setosa</td>\n",
       "    </tr>\n",
       "  </tbody>\n",
       "</table>\n",
       "</div>"
      ],
      "text/plain": [
       "   sepal_length  sepal_width  petal_length  petal_width species\n",
       "0           5.1          3.5           1.4          0.2  setosa\n",
       "1           4.9          3.0           1.4          0.2  setosa\n",
       "2           4.7          3.2           1.3          0.2  setosa\n",
       "3           4.6          3.1           1.5          0.2  setosa\n",
       "4           5.0          3.6           1.4          0.2  setosa"
      ]
     },
     "execution_count": 2,
     "metadata": {},
     "output_type": "execute_result"
    }
   ],
   "source": [
    "dataframe = pd.read_csv('iris.csv')\n",
    "dataframe.head()"
   ]
  },
  {
   "cell_type": "markdown",
   "metadata": {},
   "source": [
    "# Understanding dataset"
   ]
  },
  {
   "cell_type": "markdown",
   "metadata": {},
   "source": [
    "### Data size"
   ]
  },
  {
   "cell_type": "code",
   "execution_count": 3,
   "metadata": {},
   "outputs": [
    {
     "data": {
      "text/plain": [
       "(150, 5)"
      ]
     },
     "execution_count": 3,
     "metadata": {},
     "output_type": "execute_result"
    }
   ],
   "source": [
    "dataframe.shape"
   ]
  },
  {
   "cell_type": "markdown",
   "metadata": {},
   "source": [
    "### Data cols"
   ]
  },
  {
   "cell_type": "code",
   "execution_count": 4,
   "metadata": {},
   "outputs": [
    {
     "data": {
      "text/plain": [
       "Index(['sepal_length', 'sepal_width', 'petal_length', 'petal_width',\n",
       "       'species'],\n",
       "      dtype='object')"
      ]
     },
     "execution_count": 4,
     "metadata": {},
     "output_type": "execute_result"
    }
   ],
   "source": [
    "dataframe.columns"
   ]
  },
  {
   "cell_type": "code",
   "execution_count": 5,
   "metadata": {},
   "outputs": [
    {
     "data": {
      "text/html": [
       "<div>\n",
       "<style scoped>\n",
       "    .dataframe tbody tr th:only-of-type {\n",
       "        vertical-align: middle;\n",
       "    }\n",
       "\n",
       "    .dataframe tbody tr th {\n",
       "        vertical-align: top;\n",
       "    }\n",
       "\n",
       "    .dataframe thead th {\n",
       "        text-align: right;\n",
       "    }\n",
       "</style>\n",
       "<table border=\"1\" class=\"dataframe\">\n",
       "  <thead>\n",
       "    <tr style=\"text-align: right;\">\n",
       "      <th></th>\n",
       "      <th>sepal_length</th>\n",
       "      <th>sepal_width</th>\n",
       "      <th>petal_length</th>\n",
       "      <th>petal_width</th>\n",
       "    </tr>\n",
       "  </thead>\n",
       "  <tbody>\n",
       "    <tr>\n",
       "      <th>count</th>\n",
       "      <td>149.000000</td>\n",
       "      <td>149.000000</td>\n",
       "      <td>150.000000</td>\n",
       "      <td>148.000000</td>\n",
       "    </tr>\n",
       "    <tr>\n",
       "      <th>mean</th>\n",
       "      <td>5.843624</td>\n",
       "      <td>3.051007</td>\n",
       "      <td>3.758667</td>\n",
       "      <td>1.210135</td>\n",
       "    </tr>\n",
       "    <tr>\n",
       "      <th>std</th>\n",
       "      <td>0.830851</td>\n",
       "      <td>0.433499</td>\n",
       "      <td>1.764420</td>\n",
       "      <td>0.761643</td>\n",
       "    </tr>\n",
       "    <tr>\n",
       "      <th>min</th>\n",
       "      <td>4.300000</td>\n",
       "      <td>2.000000</td>\n",
       "      <td>1.000000</td>\n",
       "      <td>0.100000</td>\n",
       "    </tr>\n",
       "    <tr>\n",
       "      <th>25%</th>\n",
       "      <td>5.100000</td>\n",
       "      <td>2.800000</td>\n",
       "      <td>1.600000</td>\n",
       "      <td>0.300000</td>\n",
       "    </tr>\n",
       "    <tr>\n",
       "      <th>50%</th>\n",
       "      <td>5.800000</td>\n",
       "      <td>3.000000</td>\n",
       "      <td>4.350000</td>\n",
       "      <td>1.300000</td>\n",
       "    </tr>\n",
       "    <tr>\n",
       "      <th>75%</th>\n",
       "      <td>6.400000</td>\n",
       "      <td>3.300000</td>\n",
       "      <td>5.100000</td>\n",
       "      <td>1.800000</td>\n",
       "    </tr>\n",
       "    <tr>\n",
       "      <th>max</th>\n",
       "      <td>7.900000</td>\n",
       "      <td>4.400000</td>\n",
       "      <td>6.900000</td>\n",
       "      <td>2.500000</td>\n",
       "    </tr>\n",
       "  </tbody>\n",
       "</table>\n",
       "</div>"
      ],
      "text/plain": [
       "       sepal_length  sepal_width  petal_length  petal_width\n",
       "count    149.000000   149.000000    150.000000   148.000000\n",
       "mean       5.843624     3.051007      3.758667     1.210135\n",
       "std        0.830851     0.433499      1.764420     0.761643\n",
       "min        4.300000     2.000000      1.000000     0.100000\n",
       "25%        5.100000     2.800000      1.600000     0.300000\n",
       "50%        5.800000     3.000000      4.350000     1.300000\n",
       "75%        6.400000     3.300000      5.100000     1.800000\n",
       "max        7.900000     4.400000      6.900000     2.500000"
      ]
     },
     "execution_count": 5,
     "metadata": {},
     "output_type": "execute_result"
    }
   ],
   "source": [
    "dataframe.describe()"
   ]
  },
  {
   "cell_type": "markdown",
   "metadata": {},
   "source": [
    "### If any null"
   ]
  },
  {
   "cell_type": "code",
   "execution_count": 6,
   "metadata": {},
   "outputs": [
    {
     "data": {
      "text/plain": [
       "sepal_length    1\n",
       "sepal_width     1\n",
       "petal_length    0\n",
       "petal_width     2\n",
       "species         2\n",
       "dtype: int64"
      ]
     },
     "execution_count": 6,
     "metadata": {},
     "output_type": "execute_result"
    }
   ],
   "source": [
    "dataframe.isnull().sum()"
   ]
  },
  {
   "cell_type": "markdown",
   "metadata": {},
   "source": [
    "### If any dup"
   ]
  },
  {
   "cell_type": "code",
   "execution_count": 7,
   "metadata": {},
   "outputs": [
    {
     "data": {
      "text/plain": [
       "3"
      ]
     },
     "execution_count": 7,
     "metadata": {},
     "output_type": "execute_result"
    }
   ],
   "source": [
    "dataframe.duplicated().sum()"
   ]
  },
  {
   "cell_type": "markdown",
   "metadata": {},
   "source": [
    "### which are dups"
   ]
  },
  {
   "cell_type": "code",
   "execution_count": 8,
   "metadata": {},
   "outputs": [
    {
     "data": {
      "text/html": [
       "<div>\n",
       "<style scoped>\n",
       "    .dataframe tbody tr th:only-of-type {\n",
       "        vertical-align: middle;\n",
       "    }\n",
       "\n",
       "    .dataframe tbody tr th {\n",
       "        vertical-align: top;\n",
       "    }\n",
       "\n",
       "    .dataframe thead th {\n",
       "        text-align: right;\n",
       "    }\n",
       "</style>\n",
       "<table border=\"1\" class=\"dataframe\">\n",
       "  <thead>\n",
       "    <tr style=\"text-align: right;\">\n",
       "      <th></th>\n",
       "      <th>sepal_length</th>\n",
       "      <th>sepal_width</th>\n",
       "      <th>petal_length</th>\n",
       "      <th>petal_width</th>\n",
       "      <th>species</th>\n",
       "    </tr>\n",
       "  </thead>\n",
       "  <tbody>\n",
       "    <tr>\n",
       "      <th>9</th>\n",
       "      <td>4.9</td>\n",
       "      <td>3.1</td>\n",
       "      <td>1.5</td>\n",
       "      <td>0.1</td>\n",
       "      <td>setosa</td>\n",
       "    </tr>\n",
       "    <tr>\n",
       "      <th>34</th>\n",
       "      <td>4.9</td>\n",
       "      <td>3.1</td>\n",
       "      <td>1.5</td>\n",
       "      <td>0.1</td>\n",
       "      <td>setosa</td>\n",
       "    </tr>\n",
       "    <tr>\n",
       "      <th>37</th>\n",
       "      <td>4.9</td>\n",
       "      <td>3.1</td>\n",
       "      <td>1.5</td>\n",
       "      <td>0.1</td>\n",
       "      <td>setosa</td>\n",
       "    </tr>\n",
       "    <tr>\n",
       "      <th>101</th>\n",
       "      <td>5.8</td>\n",
       "      <td>2.7</td>\n",
       "      <td>5.1</td>\n",
       "      <td>1.9</td>\n",
       "      <td>virginica</td>\n",
       "    </tr>\n",
       "    <tr>\n",
       "      <th>142</th>\n",
       "      <td>5.8</td>\n",
       "      <td>2.7</td>\n",
       "      <td>5.1</td>\n",
       "      <td>1.9</td>\n",
       "      <td>virginica</td>\n",
       "    </tr>\n",
       "  </tbody>\n",
       "</table>\n",
       "</div>"
      ],
      "text/plain": [
       "     sepal_length  sepal_width  petal_length  petal_width    species\n",
       "9             4.9          3.1           1.5          0.1     setosa\n",
       "34            4.9          3.1           1.5          0.1     setosa\n",
       "37            4.9          3.1           1.5          0.1     setosa\n",
       "101           5.8          2.7           5.1          1.9  virginica\n",
       "142           5.8          2.7           5.1          1.9  virginica"
      ]
     },
     "execution_count": 8,
     "metadata": {},
     "output_type": "execute_result"
    }
   ],
   "source": [
    "# getting dup rows\n",
    "dataframe[dataframe.duplicated(keep=False)]"
   ]
  },
  {
   "cell_type": "markdown",
   "metadata": {},
   "source": [
    "### drop nulls"
   ]
  },
  {
   "cell_type": "code",
   "execution_count": 9,
   "metadata": {},
   "outputs": [],
   "source": [
    "# drop the null rows\n",
    "\n",
    "# If feature -> replace with mean\n",
    "# If target -> drop the row\n",
    "\n",
    "######## numeric_only ########\n",
    "\n",
    "dataframe.fillna(dataframe.mean(numeric_only=True), inplace=True)\n",
    "\n",
    "# # Convert all columns that can be to numeric, coercing errors\n",
    "# dataframe = dataframe.apply(pd.to_numeric, errors='coerce')\n",
    "\n",
    "# # Handle the null values with the mean of the column\n",
    "# dataframe.fillna(dataframe.mean(numeric_only=True), inplace=True)\n"
   ]
  },
  {
   "cell_type": "code",
   "execution_count": 10,
   "metadata": {},
   "outputs": [
    {
     "data": {
      "text/plain": [
       "sepal_length    0\n",
       "sepal_width     0\n",
       "petal_length    0\n",
       "petal_width     0\n",
       "species         2\n",
       "dtype: int64"
      ]
     },
     "execution_count": 10,
     "metadata": {},
     "output_type": "execute_result"
    }
   ],
   "source": [
    "dataframe.isnull().sum()"
   ]
  },
  {
   "cell_type": "code",
   "execution_count": 11,
   "metadata": {},
   "outputs": [],
   "source": [
    "# Drop the null that are Target\n",
    "\n",
    "dataframe.dropna(subset=['species'], inplace=True)"
   ]
  },
  {
   "cell_type": "code",
   "execution_count": 12,
   "metadata": {},
   "outputs": [
    {
     "data": {
      "text/plain": [
       "sepal_length    0\n",
       "sepal_width     0\n",
       "petal_length    0\n",
       "petal_width     0\n",
       "species         0\n",
       "dtype: int64"
      ]
     },
     "execution_count": 12,
     "metadata": {},
     "output_type": "execute_result"
    }
   ],
   "source": [
    "dataframe.isnull().sum()"
   ]
  },
  {
   "cell_type": "markdown",
   "metadata": {},
   "source": [
    "### drop dups\n"
   ]
  },
  {
   "cell_type": "code",
   "execution_count": 13,
   "metadata": {},
   "outputs": [
    {
     "data": {
      "text/plain": [
       "0"
      ]
     },
     "execution_count": 13,
     "metadata": {},
     "output_type": "execute_result"
    }
   ],
   "source": [
    "# drop duplicates\n",
    "\n",
    "dataframe.drop_duplicates(inplace=True)\n",
    "dataframe.duplicated().sum()"
   ]
  },
  {
   "cell_type": "code",
   "execution_count": 14,
   "metadata": {},
   "outputs": [
    {
     "data": {
      "text/html": [
       "<div>\n",
       "<style scoped>\n",
       "    .dataframe tbody tr th:only-of-type {\n",
       "        vertical-align: middle;\n",
       "    }\n",
       "\n",
       "    .dataframe tbody tr th {\n",
       "        vertical-align: top;\n",
       "    }\n",
       "\n",
       "    .dataframe thead th {\n",
       "        text-align: right;\n",
       "    }\n",
       "</style>\n",
       "<table border=\"1\" class=\"dataframe\">\n",
       "  <thead>\n",
       "    <tr style=\"text-align: right;\">\n",
       "      <th></th>\n",
       "      <th>sepal_length</th>\n",
       "      <th>sepal_width</th>\n",
       "      <th>petal_length</th>\n",
       "      <th>petal_width</th>\n",
       "      <th>species</th>\n",
       "    </tr>\n",
       "  </thead>\n",
       "  <tbody>\n",
       "    <tr>\n",
       "      <th>0</th>\n",
       "      <td>5.1</td>\n",
       "      <td>3.5</td>\n",
       "      <td>1.4</td>\n",
       "      <td>0.2</td>\n",
       "      <td>setosa</td>\n",
       "    </tr>\n",
       "    <tr>\n",
       "      <th>1</th>\n",
       "      <td>4.9</td>\n",
       "      <td>3.0</td>\n",
       "      <td>1.4</td>\n",
       "      <td>0.2</td>\n",
       "      <td>setosa</td>\n",
       "    </tr>\n",
       "    <tr>\n",
       "      <th>2</th>\n",
       "      <td>4.7</td>\n",
       "      <td>3.2</td>\n",
       "      <td>1.3</td>\n",
       "      <td>0.2</td>\n",
       "      <td>setosa</td>\n",
       "    </tr>\n",
       "    <tr>\n",
       "      <th>3</th>\n",
       "      <td>4.6</td>\n",
       "      <td>3.1</td>\n",
       "      <td>1.5</td>\n",
       "      <td>0.2</td>\n",
       "      <td>setosa</td>\n",
       "    </tr>\n",
       "    <tr>\n",
       "      <th>4</th>\n",
       "      <td>5.0</td>\n",
       "      <td>3.6</td>\n",
       "      <td>1.4</td>\n",
       "      <td>0.2</td>\n",
       "      <td>setosa</td>\n",
       "    </tr>\n",
       "    <tr>\n",
       "      <th>...</th>\n",
       "      <td>...</td>\n",
       "      <td>...</td>\n",
       "      <td>...</td>\n",
       "      <td>...</td>\n",
       "      <td>...</td>\n",
       "    </tr>\n",
       "    <tr>\n",
       "      <th>145</th>\n",
       "      <td>6.7</td>\n",
       "      <td>3.0</td>\n",
       "      <td>5.2</td>\n",
       "      <td>2.3</td>\n",
       "      <td>virginica</td>\n",
       "    </tr>\n",
       "    <tr>\n",
       "      <th>146</th>\n",
       "      <td>6.3</td>\n",
       "      <td>2.5</td>\n",
       "      <td>5.0</td>\n",
       "      <td>1.9</td>\n",
       "      <td>virginica</td>\n",
       "    </tr>\n",
       "    <tr>\n",
       "      <th>147</th>\n",
       "      <td>6.5</td>\n",
       "      <td>3.0</td>\n",
       "      <td>5.2</td>\n",
       "      <td>2.0</td>\n",
       "      <td>virginica</td>\n",
       "    </tr>\n",
       "    <tr>\n",
       "      <th>148</th>\n",
       "      <td>6.2</td>\n",
       "      <td>3.4</td>\n",
       "      <td>5.4</td>\n",
       "      <td>2.3</td>\n",
       "      <td>virginica</td>\n",
       "    </tr>\n",
       "    <tr>\n",
       "      <th>149</th>\n",
       "      <td>5.9</td>\n",
       "      <td>3.0</td>\n",
       "      <td>5.1</td>\n",
       "      <td>1.8</td>\n",
       "      <td>virginica</td>\n",
       "    </tr>\n",
       "  </tbody>\n",
       "</table>\n",
       "<p>145 rows × 5 columns</p>\n",
       "</div>"
      ],
      "text/plain": [
       "     sepal_length  sepal_width  petal_length  petal_width    species\n",
       "0             5.1          3.5           1.4          0.2     setosa\n",
       "1             4.9          3.0           1.4          0.2     setosa\n",
       "2             4.7          3.2           1.3          0.2     setosa\n",
       "3             4.6          3.1           1.5          0.2     setosa\n",
       "4             5.0          3.6           1.4          0.2     setosa\n",
       "..            ...          ...           ...          ...        ...\n",
       "145           6.7          3.0           5.2          2.3  virginica\n",
       "146           6.3          2.5           5.0          1.9  virginica\n",
       "147           6.5          3.0           5.2          2.0  virginica\n",
       "148           6.2          3.4           5.4          2.3  virginica\n",
       "149           5.9          3.0           5.1          1.8  virginica\n",
       "\n",
       "[145 rows x 5 columns]"
      ]
     },
     "execution_count": 14,
     "metadata": {},
     "output_type": "execute_result"
    }
   ],
   "source": [
    "# dataframe.describe()\n",
    "dataframe"
   ]
  },
  {
   "cell_type": "markdown",
   "metadata": {},
   "source": [
    "# Defining X & Y"
   ]
  },
  {
   "cell_type": "code",
   "execution_count": 15,
   "metadata": {},
   "outputs": [],
   "source": [
    "# Features and Target\n",
    "\n",
    "features = dataframe.drop('species', axis=1)\n",
    "\n",
    "target = dataframe['species']"
   ]
  },
  {
   "cell_type": "code",
   "execution_count": 16,
   "metadata": {},
   "outputs": [
    {
     "data": {
      "text/html": [
       "<div>\n",
       "<style scoped>\n",
       "    .dataframe tbody tr th:only-of-type {\n",
       "        vertical-align: middle;\n",
       "    }\n",
       "\n",
       "    .dataframe tbody tr th {\n",
       "        vertical-align: top;\n",
       "    }\n",
       "\n",
       "    .dataframe thead th {\n",
       "        text-align: right;\n",
       "    }\n",
       "</style>\n",
       "<table border=\"1\" class=\"dataframe\">\n",
       "  <thead>\n",
       "    <tr style=\"text-align: right;\">\n",
       "      <th></th>\n",
       "      <th>sepal_length</th>\n",
       "      <th>sepal_width</th>\n",
       "      <th>petal_length</th>\n",
       "      <th>petal_width</th>\n",
       "    </tr>\n",
       "  </thead>\n",
       "  <tbody>\n",
       "    <tr>\n",
       "      <th>0</th>\n",
       "      <td>5.1</td>\n",
       "      <td>3.5</td>\n",
       "      <td>1.4</td>\n",
       "      <td>0.2</td>\n",
       "    </tr>\n",
       "    <tr>\n",
       "      <th>1</th>\n",
       "      <td>4.9</td>\n",
       "      <td>3.0</td>\n",
       "      <td>1.4</td>\n",
       "      <td>0.2</td>\n",
       "    </tr>\n",
       "    <tr>\n",
       "      <th>2</th>\n",
       "      <td>4.7</td>\n",
       "      <td>3.2</td>\n",
       "      <td>1.3</td>\n",
       "      <td>0.2</td>\n",
       "    </tr>\n",
       "    <tr>\n",
       "      <th>3</th>\n",
       "      <td>4.6</td>\n",
       "      <td>3.1</td>\n",
       "      <td>1.5</td>\n",
       "      <td>0.2</td>\n",
       "    </tr>\n",
       "    <tr>\n",
       "      <th>4</th>\n",
       "      <td>5.0</td>\n",
       "      <td>3.6</td>\n",
       "      <td>1.4</td>\n",
       "      <td>0.2</td>\n",
       "    </tr>\n",
       "  </tbody>\n",
       "</table>\n",
       "</div>"
      ],
      "text/plain": [
       "   sepal_length  sepal_width  petal_length  petal_width\n",
       "0           5.1          3.5           1.4          0.2\n",
       "1           4.9          3.0           1.4          0.2\n",
       "2           4.7          3.2           1.3          0.2\n",
       "3           4.6          3.1           1.5          0.2\n",
       "4           5.0          3.6           1.4          0.2"
      ]
     },
     "execution_count": 16,
     "metadata": {},
     "output_type": "execute_result"
    }
   ],
   "source": [
    "features.head()"
   ]
  },
  {
   "cell_type": "code",
   "execution_count": 17,
   "metadata": {},
   "outputs": [
    {
     "data": {
      "text/plain": [
       "0    setosa\n",
       "1    setosa\n",
       "2    setosa\n",
       "3    setosa\n",
       "4    setosa\n",
       "Name: species, dtype: object"
      ]
     },
     "execution_count": 17,
     "metadata": {},
     "output_type": "execute_result"
    }
   ],
   "source": [
    "target.head()"
   ]
  },
  {
   "cell_type": "markdown",
   "metadata": {},
   "source": [
    "# Target is in String, convert to Numerical"
   ]
  },
  {
   "cell_type": "code",
   "execution_count": 18,
   "metadata": {},
   "outputs": [
    {
     "data": {
      "text/plain": [
       "array(['setosa', 'versicolor', 'virginica'], dtype=object)"
      ]
     },
     "execution_count": 18,
     "metadata": {},
     "output_type": "execute_result"
    }
   ],
   "source": [
    "# show distinct target values\n",
    "target.unique()\n"
   ]
  },
  {
   "cell_type": "code",
   "execution_count": 19,
   "metadata": {},
   "outputs": [],
   "source": [
    "# convert target to numeric\n",
    "\n",
    "# target = target.map({'setosa': 0, 'versicolor': 1, 'virginica': 2})\n",
    "\n",
    "map_target = {'setosa': 0, 'versicolor': 1, 'virginica': 2}\n",
    "target = [map_target[i] for i in target]"
   ]
  },
  {
   "cell_type": "code",
   "execution_count": 20,
   "metadata": {},
   "outputs": [
    {
     "data": {
      "text/plain": [
       "array([0, 0, 0, 0, 0, 0, 0, 0, 0, 0, 0, 0, 0, 0, 0, 0, 0, 0, 0, 0, 0, 0,\n",
       "       0, 0, 0, 0, 0, 0, 0, 0, 0, 0, 0, 0, 0, 0, 0, 0, 0, 0, 0, 0, 0, 0,\n",
       "       0, 0, 0, 1, 1, 1, 1, 1, 1, 1, 1, 1, 1, 1, 1, 1, 1, 1, 1, 1, 1, 1,\n",
       "       1, 1, 1, 1, 1, 1, 1, 1, 1, 1, 1, 1, 1, 1, 1, 1, 1, 1, 1, 1, 1, 1,\n",
       "       1, 1, 1, 1, 1, 1, 1, 1, 2, 2, 2, 2, 2, 2, 2, 2, 2, 2, 2, 2, 2, 2,\n",
       "       2, 2, 2, 2, 2, 2, 2, 2, 2, 2, 2, 2, 2, 2, 2, 2, 2, 2, 2, 2, 2, 2,\n",
       "       2, 2, 2, 2, 2, 2, 2, 2, 2, 2, 2, 2, 2])"
      ]
     },
     "execution_count": 20,
     "metadata": {},
     "output_type": "execute_result"
    }
   ],
   "source": [
    "from sklearn.preprocessing import LabelEncoder\n",
    "\n",
    "# instance of labelencoder\n",
    "encoder = LabelEncoder()\n",
    "\n",
    "target = dataframe['species']\n",
    "target = encoder.fit_transform(target)\n",
    "\n",
    "target"
   ]
  },
  {
   "cell_type": "markdown",
   "metadata": {},
   "source": [
    "# Scalling"
   ]
  },
  {
   "cell_type": "markdown",
   "metadata": {},
   "source": [
    "Use this to avoid biasing of the machine learning\n",
    "\n",
    "Min max scaling -> 0 to 1\n"
   ]
  },
  {
   "cell_type": "code",
   "execution_count": 21,
   "metadata": {},
   "outputs": [],
   "source": [
    "from sklearn.preprocessing import MinMaxScaler\n",
    "scaler = MinMaxScaler()\n",
    "features_minmax = scaler.fit_transform(features)\n",
    "\n",
    "# features_minmax\n"
   ]
  },
  {
   "cell_type": "markdown",
   "metadata": {},
   "source": [
    "Standard Scaling\n",
    "Mean = 0, Std deviation < 1"
   ]
  },
  {
   "cell_type": "code",
   "execution_count": 22,
   "metadata": {},
   "outputs": [
    {
     "data": {
      "text/plain": [
       "array([[-0.91504133,  1.04890031, -1.36295376, -1.36861492],\n",
       "       [-1.15772763, -0.10769949, -1.36295376, -1.36861492],\n",
       "       [-1.40041392,  0.35494043, -1.41998934, -1.36861492],\n",
       "       [-1.52175706,  0.12362047, -1.30591817, -1.36861492],\n",
       "       [-1.03638448,  1.28022027, -1.36295376, -1.36861492],\n",
       "       [-0.5510119 ,  1.97418015, -1.19184701, -1.10173918],\n",
       "       [-1.52175706,  0.81758035, -1.36295376, -1.23517705],\n",
       "       [-1.03638448,  0.81758035, -1.30591817, -1.36861492],\n",
       "       [-1.76444336, -0.33901945, -1.36295376, -1.36861492],\n",
       "       [-1.15772763,  0.12362047, -1.30591817, -1.50205279],\n",
       "       [-0.5510119 ,  1.51154023, -1.30591817, -1.36861492],\n",
       "       [-1.27907077,  0.81758035, -1.24888259, -1.36861492],\n",
       "       [-1.27907077, -0.10769949, -1.36295376, -1.50205279],\n",
       "       [-1.8857865 , -0.10769949, -1.53406051, -1.50205279],\n",
       "       [-0.01270438,  2.20550011, -1.47702492, -1.36861492],\n",
       "       [-0.18698246,  3.13077994, -1.30591817, -1.10173918],\n",
       "       [-0.5510119 ,  1.97418015, -1.41998934, -1.10173918],\n",
       "       [-0.91504133,  0.01028921, -1.36295376, -1.23517705],\n",
       "       [-0.18698246,  1.74286019, -1.19184701, -1.23517705],\n",
       "       [-0.5510119 ,  0.81758035, -1.19184701, -1.36861492],\n",
       "       [-0.91504133,  1.51154023, -1.30591817, -1.10173918],\n",
       "       [-1.52175706,  1.28022027, -1.59109609, -1.36861492],\n",
       "       [-0.91504133,  0.58626039, -1.19184701, -0.02071209],\n",
       "       [-1.27907077,  0.81758035, -1.07777584, -0.02071209],\n",
       "       [-1.03638448, -0.10769949, -1.24888259, -1.36861492],\n",
       "       [-1.03638448,  0.81758035, -1.24888259, -1.10173918],\n",
       "       [-0.79369819,  1.04890031, -1.30591817, -1.36861492],\n",
       "       [-0.79369819,  0.81758035, -1.36295376, -1.36861492],\n",
       "       [-1.40041392,  0.35494043, -1.24888259, -1.36861492],\n",
       "       [-1.27907077,  0.12362047, -1.24888259, -1.36861492],\n",
       "       [-0.5510119 ,  0.81758035, -1.30591817, -1.10173918],\n",
       "       [-0.79369819,  2.43682007, -1.30591817, -1.50205279],\n",
       "       [-0.42966875,  2.66814002, -1.36295376, -1.36861492],\n",
       "       [-1.03638448,  0.35494043, -1.47702492, -1.36861492],\n",
       "       [-0.42966875,  1.04890031, -1.41998934, -1.36861492],\n",
       "       [-1.76444336, -0.10769949, -1.41998934, -1.36861492],\n",
       "       [-0.91504133,  0.81758035, -1.30591817, -1.36861492],\n",
       "       [-1.03638448,  1.04890031, -1.41998934, -1.23517705],\n",
       "       [-1.64310021, -1.72693921, -1.41998934, -1.23517705],\n",
       "       [-1.76444336,  0.35494043, -1.41998934, -1.36861492],\n",
       "       [-1.03638448,  1.04890031, -1.24888259, -0.83486343],\n",
       "       [-0.91504133,  1.74286019, -1.07777584, -1.10173918],\n",
       "       [-1.27907077, -0.10769949, -1.36295376, -1.23517705],\n",
       "       [-0.91504133,  1.74286019, -1.24888259, -1.36861492],\n",
       "       [-1.52175706,  0.35494043, -1.36295376, -1.36861492],\n",
       "       [-0.67235504,  1.51154023, -1.30591817, -1.36861492],\n",
       "       [-1.03638448,  0.58626039, -1.36295376, -1.36861492],\n",
       "       [ 0.66241956,  0.35494043,  0.40514931,  0.36607741],\n",
       "       [ 1.26913529,  0.12362047,  0.63329164,  0.36607741],\n",
       "       [-0.42966875, -1.72693921,  0.1199714 ,  0.09920167],\n",
       "       [ 0.78376271, -0.57033941,  0.4621849 ,  0.36607741],\n",
       "       [-0.18698246, -0.57033941,  0.40514931,  0.09920167],\n",
       "       [ 0.54107642,  0.58626039,  0.51922048,  0.49951528],\n",
       "       [-1.15772763, -1.49561925, -0.27927768, -0.30111195],\n",
       "       [ 0.90510586, -0.33901945,  0.4621849 ,  0.09920167],\n",
       "       [-0.79369819, -0.80165937,  0.06293582,  0.23263954],\n",
       "       [-1.03638448, -2.42089908, -0.16520652, -0.30111195],\n",
       "       [ 0.05570383, -0.10769949,  0.23404256,  0.36607741],\n",
       "       [ 0.17704698, -1.95825917,  0.1199714 , -0.30111195],\n",
       "       [ 0.29839013, -0.33901945,  0.51922048,  0.23263954],\n",
       "       [-0.3083256 , -0.33901945, -0.10817093,  0.09920167],\n",
       "       [ 1.026449  ,  0.12362047,  0.34811373,  0.23263954],\n",
       "       [-0.3083256 , -0.10769949,  0.40514931,  0.36607741],\n",
       "       [-0.06563931, -0.80165937,  0.17700698, -0.30111195],\n",
       "       [ 0.41973327, -1.95825917,  0.40514931,  0.36607741],\n",
       "       [-0.3083256 , -1.26429929,  0.06293582, -0.16767407],\n",
       "       [ 0.05570383,  0.35494043,  0.57625606,  0.76639103],\n",
       "       [ 0.29839013, -0.57033941,  0.1199714 ,  0.09920167],\n",
       "       [ 0.54107642, -1.26429929,  0.63329164,  0.36607741],\n",
       "       [ 0.29839013, -0.57033941,  0.51922048, -0.0342362 ],\n",
       "       [ 0.66241956, -0.33901945,  0.29107815,  0.09920167],\n",
       "       [ 0.90510586, -0.10769949,  0.34811373,  0.23263954],\n",
       "       [ 1.14779215, -0.57033941,  0.57625606,  0.23263954],\n",
       "       [ 1.026449  , -0.10769949,  0.69032723,  0.63295315],\n",
       "       [ 0.17704698, -0.33901945,  0.40514931,  0.36607741],\n",
       "       [-0.18698246, -1.03297933, -0.16520652, -0.30111195],\n",
       "       [-0.42966875, -1.49561925,  0.00590023, -0.16767407],\n",
       "       [-0.42966875, -1.49561925, -0.05113535, -0.30111195],\n",
       "       [-0.06563931, -0.80165937,  0.06293582, -0.0342362 ],\n",
       "       [ 0.17704698, -0.80165937,  0.74736281,  0.49951528],\n",
       "       [-0.5510119 , -0.10769949,  0.40514931,  0.36607741],\n",
       "       [ 0.17704698,  0.81758035,  0.40514931,  0.49951528],\n",
       "       [ 1.026449  ,  0.12362047,  0.51922048,  0.36607741],\n",
       "       [ 0.54107642, -1.72693921,  0.34811373,  0.09920167],\n",
       "       [-0.3083256 , -0.10769949,  0.17700698,  0.09920167],\n",
       "       [-0.42966875, -1.26429929,  0.1199714 ,  0.09920167],\n",
       "       [-0.42966875, -1.03297933,  0.34811373, -0.0342362 ],\n",
       "       [ 0.29839013, -0.10769949,  0.4621849 ,  0.23263954],\n",
       "       [-0.06563931, -1.03297933,  0.1199714 , -0.0342362 ],\n",
       "       [-1.03638448, -1.72693921, -0.27927768, -0.30111195],\n",
       "       [-0.3083256 , -0.80165937,  0.23404256,  0.09920167],\n",
       "       [-0.18698246, -0.10769949,  0.23404256, -0.0342362 ],\n",
       "       [-0.18698246, -0.33901945,  0.23404256,  0.09920167],\n",
       "       [ 0.41973327, -0.33901945,  0.29107815,  0.09920167],\n",
       "       [-0.91504133, -1.26429929, -0.45038443, -0.16767407],\n",
       "       [-0.18698246, -0.57033941,  0.17700698,  0.09920167],\n",
       "       [ 0.54107642,  0.58626039,  1.26068306,  1.70045613],\n",
       "       [-0.06563931, -0.80165937,  0.74736281,  0.8998289 ],\n",
       "       [ 1.51182158, -0.10769949,  1.20364747,  1.16670464],\n",
       "       [ 0.54107642, -0.33901945,  1.03254073,  0.76639103],\n",
       "       [ 0.78376271, -0.10769949,  1.14661189,  1.30014251],\n",
       "       [ 2.11853731, -0.10769949,  1.60289655,  1.16670464],\n",
       "       [-1.15772763, -1.26429929,  0.40514931,  0.63295315],\n",
       "       [ 1.75450788, -0.33901945,  1.43178981,  0.76639103],\n",
       "       [ 1.026449  , -1.26429929,  1.14661189,  0.76639103],\n",
       "       [ 1.63316473,  1.28022027,  1.31771864,  1.70045613],\n",
       "       [ 0.78376271,  0.35494043,  0.74736281,  1.03326677],\n",
       "       [ 0.66241956, -0.80165937,  0.86143398,  0.8998289 ],\n",
       "       [ 1.14779215, -0.10769949,  0.97550514,  1.16670464],\n",
       "       [-0.18698246, -1.26429929,  0.69032723,  1.03326677],\n",
       "       [-0.06563931, -0.57033941,  0.74736281,  1.56701825],\n",
       "       [ 0.66241956,  0.35494043,  0.86143398,  1.43358038],\n",
       "       [ 0.78376271, -0.10769949,  0.97550514,  0.76639103],\n",
       "       [ 2.23988046,  1.74286019,  1.65993214,  1.30014251],\n",
       "       [ 2.23988046, -1.03297933,  1.7740033 ,  1.43358038],\n",
       "       [ 0.17704698, -1.95825917,  0.69032723,  0.36607741],\n",
       "       [ 1.26913529,  0.35494043,  1.08957631,  1.43358038],\n",
       "       [-0.3083256 , -0.57033941,  0.63329164,  1.03326677],\n",
       "       [ 2.23988046, -0.57033941,  1.65993214,  1.03326677],\n",
       "       [ 0.54107642, -0.80165937,  0.63329164,  0.76639103],\n",
       "       [ 1.026449  ,  0.58626039,  1.08957631,  1.16670464],\n",
       "       [ 1.63316473,  0.35494043,  1.26068306,  0.76639103],\n",
       "       [ 0.41973327, -0.57033941,  0.57625606,  0.76639103],\n",
       "       [ 0.29839013, -0.10769949,  0.63329164,  0.76639103],\n",
       "       [ 0.66241956, -0.57033941,  1.03254073,  1.16670464],\n",
       "       [ 1.63316473, -0.10769949,  1.14661189,  0.49951528],\n",
       "       [ 1.87585102, -0.57033941,  1.31771864,  0.8998289 ],\n",
       "       [ 2.48256675,  1.74286019,  1.48882539,  1.03326677],\n",
       "       [ 0.66241956, -0.57033941,  1.03254073,  1.30014251],\n",
       "       [ 0.54107642, -0.57033941,  0.74736281,  0.36607741],\n",
       "       [ 0.29839013, -1.03297933,  1.03254073,  0.23263954],\n",
       "       [ 2.23988046, -0.10769949,  1.31771864,  1.43358038],\n",
       "       [ 0.54107642,  0.81758035,  1.03254073,  1.56701825],\n",
       "       [ 0.66241956,  0.12362047,  0.97550514,  0.76639103],\n",
       "       [ 0.17704698, -0.10769949,  0.57625606,  0.76639103],\n",
       "       [ 1.26913529,  0.12362047,  0.91846956,  1.16670464],\n",
       "       [ 1.026449  ,  0.12362047,  1.03254073,  1.56701825],\n",
       "       [ 1.26913529,  0.12362047,  0.74736281,  1.43358038],\n",
       "       [ 1.14779215,  0.35494043,  1.20364747,  1.43358038],\n",
       "       [ 1.026449  ,  0.58626039,  1.08957631,  1.70045613],\n",
       "       [ 1.026449  , -0.10769949,  0.80439839,  1.43358038],\n",
       "       [ 0.54107642, -1.26429929,  0.69032723,  0.8998289 ],\n",
       "       [ 0.78376271, -0.10769949,  0.80439839,  1.03326677],\n",
       "       [ 0.41973327,  0.81758035,  0.91846956,  1.43358038],\n",
       "       [ 0.05570383, -0.10769949,  0.74736281,  0.76639103]])"
      ]
     },
     "execution_count": 22,
     "metadata": {},
     "output_type": "execute_result"
    }
   ],
   "source": [
    "from sklearn.preprocessing import StandardScaler\n",
    "scaler = StandardScaler()\n",
    "features_standard = scaler.fit_transform(features)\n",
    "\n",
    "features_standard"
   ]
  },
  {
   "cell_type": "markdown",
   "metadata": {},
   "source": [
    "Scale only Featrues\n",
    "\n",
    "write this text bold \n",
    "\n",
    "**SCALLING WILL MAKE THE CHART IN ARRAY**\n",
    "\n"
   ]
  },
  {
   "cell_type": "markdown",
   "metadata": {},
   "source": [
    "# Correlation analysis"
   ]
  },
  {
   "cell_type": "markdown",
   "metadata": {},
   "source": [
    "How each column/s affect the target\n",
    "\n",
    "But we gotta work with it as a **Dataframe**"
   ]
  },
  {
   "cell_type": "code",
   "execution_count": 23,
   "metadata": {},
   "outputs": [],
   "source": [
    "# revert back to dataframe\n",
    "features_df = pd.DataFrame(features_minmax, columns=features.columns)\n",
    "target_df = pd.DataFrame(target, columns=['species'])"
   ]
  },
  {
   "cell_type": "code",
   "execution_count": 24,
   "metadata": {},
   "outputs": [
    {
     "data": {
      "text/plain": [
       "sepal_length    0.786367\n",
       "sepal_width    -0.402850\n",
       "petal_length    0.948710\n",
       "petal_width     0.944835\n",
       "dtype: float64"
      ]
     },
     "execution_count": 24,
     "metadata": {},
     "output_type": "execute_result"
    }
   ],
   "source": [
    "# correlation output\n",
    "target_series = target_df['species']\n",
    "correlation = features_df.corrwith(target_series)\n",
    "correlation"
   ]
  },
  {
   "cell_type": "markdown",
   "metadata": {},
   "source": [
    "Consider **Absolute value**"
   ]
  },
  {
   "cell_type": "markdown",
   "metadata": {},
   "source": [
    "# 1D Scatter plot"
   ]
  },
  {
   "cell_type": "code",
   "execution_count": 25,
   "metadata": {},
   "outputs": [
    {
     "data": {
      "image/png": "[encoded data removed]",
      "text/plain": [
       "<Figure size 640x480 with 1 Axes>"
      ]
     },
     "metadata": {},
     "output_type": "display_data"
    }
   ],
   "source": [
    "# correlation plotting show\n",
    "import matplotlib.pyplot as plt\n",
    "import numpy as np\n",
    "\n",
    "# separate the features based on numeric labels\n",
    "class_0 = features_df[target_df['species'] == 0]\n",
    "class_1 = features_df[target_df['species'] == 1]\n",
    "class_2 = features_df[target_df['species'] == 2]\n",
    "\n",
    "# create 1D scatter plot for sepal width\n",
    "plt.plot(class_0['sepal_width'], np.zeros_like(class_0['sepal_width']), 'o', label='class 0')\n",
    "plt.plot(class_1['sepal_width'], np.zeros_like(class_1['sepal_width']), 'o', label='class 1')\n",
    "plt.plot(class_2['sepal_width'], np.zeros_like(class_2['sepal_width']), 'o', label='class 2')\n",
    "\n",
    "plt.legend()\n",
    "plt.xlabel('sepal width')\n",
    "plt.title('1D scatter plot for sepal width(CANNOT BE TAKEN SERIOUSLY FOR CLASSIFICATION)')\n",
    "plt.show()"
   ]
  },
  {
   "cell_type": "code",
   "execution_count": 26,
   "metadata": {},
   "outputs": [
    {
     "data": {
      "image/png": "[encoded data removed]",
      "text/plain": [
       "<Figure size 640x480 with 1 Axes>"
      ]
     },
     "metadata": {},
     "output_type": "display_data"
    }
   ],
   "source": [
    "# correlation plotting show\n",
    "import matplotlib.pyplot as plt\n",
    "import numpy as np\n",
    "\n",
    "# separate the features based on numeric labels\n",
    "class_0 = features_df[target_df['species'] == 0]\n",
    "class_1 = features_df[target_df['species'] == 1]\n",
    "class_2 = features_df[target_df['species'] == 2]\n",
    "\n",
    "# create 1D scatter plot for sepal width\n",
    "plt.plot(class_0['petal_width'], np.zeros_like(class_0['petal_width']), 'o', label='class 0')\n",
    "plt.plot(class_1['petal_width'], np.zeros_like(class_1['petal_width']), 'o', label='class 1')\n",
    "plt.plot(class_2['petal_width'], np.zeros_like(class_2['petal_width']), 'o', label='class 2')\n",
    "\n",
    "plt.legend()\n",
    "plt.xlabel('petal width')\n",
    "plt.title('1D scatter plot for petal width(GOOD SEPARATION)')\n",
    "plt.show()"
   ]
  },
  {
   "cell_type": "code",
   "execution_count": 27,
   "metadata": {},
   "outputs": [
    {
     "data": {
      "image/png": "[encoded data removed]",
      "text/plain": [
       "<Figure size 640x480 with 1 Axes>"
      ]
     },
     "metadata": {},
     "output_type": "display_data"
    }
   ],
   "source": [
    "# correlation plotting show\n",
    "import matplotlib.pyplot as plt\n",
    "import numpy as np\n",
    "\n",
    "# separate the features based on numeric labels\n",
    "class_0 = features_df[target_df['species'] == 0]\n",
    "class_1 = features_df[target_df['species'] == 1]\n",
    "class_2 = features_df[target_df['species'] == 2]\n",
    "\n",
    "# create 1D scatter plot for sepal width\n",
    "plt.plot(class_0['petal_length'], np.zeros_like(class_0['petal_length']), 'o', label='class 0')\n",
    "plt.plot(class_1['petal_length'], np.zeros_like(class_1['petal_length']), 'o', label='class 1')\n",
    "plt.plot(class_2['petal_length'], np.zeros_like(class_2['petal_length']), 'o', label='class 2')\n",
    "\n",
    "plt.legend()\n",
    "plt.xlabel('petal_length')\n",
    "plt.title('1D scatter plot for sepal width(GOOD SEPARATION)')\n",
    "plt.show()"
   ]
  },
  {
   "cell_type": "markdown",
   "metadata": {},
   "source": [
    "# TEST Accuracy"
   ]
  },
  {
   "cell_type": "code",
   "execution_count": 28,
   "metadata": {},
   "outputs": [
    {
     "data": {
      "text/plain": [
       "0.9333333333333333"
      ]
     },
     "execution_count": 28,
     "metadata": {},
     "output_type": "execute_result"
    }
   ],
   "source": [
    "# create simple classifier\n",
    "from sklearn.model_selection import train_test_split\n",
    "from sklearn.linear_model import LogisticRegression\n",
    "from sklearn.metrics import accuracy_score\n",
    "\n",
    "X_train, X_test, y_train, y_test = train_test_split(features_minmax, target, test_size=0.1, random_state=42)\n",
    "\n",
    "model = LogisticRegression()\n",
    "model.fit(X_train, y_train)\n",
    "\n",
    "y_pred = model.predict(X_test)\n",
    "\n",
    "accuracy = accuracy_score(y_test, y_pred)\n",
    "accuracy"
   ]
  }
 ],
 "metadata": {
  "kernelspec": {
   "display_name": "Python 3",
   "language": "python",
   "name": "python3"
  },
  "language_info": {
   "codemirror_mode": {
    "name": "ipython",
    "version": 3
   },
   "file_extension": ".py",
   "mimetype": "text/x-python",
   "name": "python",
   "nbconvert_exporter": "python",
   "pygments_lexer": "ipython3",
   "version": "3.12.1"
  }
 },
 "nbformat": 4,
 "nbformat_minor": 2
}
